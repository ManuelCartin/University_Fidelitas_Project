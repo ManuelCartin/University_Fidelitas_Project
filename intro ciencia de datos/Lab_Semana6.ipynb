{
  "nbformat": 4,
  "nbformat_minor": 0,
  "metadata": {
    "colab": {
      "provenance": []
    },
    "kernelspec": {
      "name": "python3",
      "display_name": "Python 3"
    },
    "language_info": {
      "name": "python"
    }
  },
  "cells": [
    {
      "cell_type": "code",
      "execution_count": 8,
      "metadata": {
        "colab": {
          "base_uri": "https://localhost:8080/"
        },
        "id": "eZMEkRxRHGhG",
        "outputId": "5416c79d-7d6e-4453-97d1-94d33ded314a"
      },
      "outputs": [
        {
          "output_type": "stream",
          "name": "stdout",
          "text": [
            "Primeras filas del DataFrame:\n",
            "    show_id                                title                    director  \\\n",
            "0  81193313                            Chocolate                         NaN   \n",
            "1  81197050  Guatemala: Heart of the Mayan World  Luis Ara, Ignacio Jaunsolo   \n",
            "2  81213894                      The Zoya Factor             Abhishek Sharma   \n",
            "3  81082007                            Atlantics                   Mati Diop   \n",
            "4  80213643                      Chip and Potato                         NaN   \n",
            "\n",
            "                                                cast  \\\n",
            "0  Ha Ji-won, Yoon Kye-sang, Jang Seung-jo, Kang ...   \n",
            "1                                  Christian Morales   \n",
            "2  Sonam Kapoor, Dulquer Salmaan, Sanjay Kapoor, ...   \n",
            "3  Mama Sane, Amadou Mbow, Ibrahima Traore, Nicol...   \n",
            "4  Abigail Oliver, Andrea Libman, Briana Buckmast...   \n",
            "\n",
            "                    country         date_added  release_year rating  \\\n",
            "0               South Korea  November 30, 2019          2019  TV-14   \n",
            "1                       NaN  November 30, 2019          2019   TV-G   \n",
            "2                     India  November 30, 2019          2019  TV-14   \n",
            "3  France, Senegal, Belgium  November 29, 2019          2019  TV-14   \n",
            "4    Canada, United Kingdom                NaN          2019   TV-Y   \n",
            "\n",
            "    duration                                          listed_in  \\\n",
            "0   1 Season  International TV Shows, Korean TV Shows, Roman...   \n",
            "1     67 min                Documentaries, International Movies   \n",
            "2    135 min             Comedies, Dramas, International Movies   \n",
            "3    106 min   Dramas, Independent Movies, International Movies   \n",
            "4  2 Seasons                                           Kids' TV   \n",
            "\n",
            "                                         description     type  \n",
            "0  Brought together by meaningful meals in the pa...  TV Show  \n",
            "1  From Sierra de las Minas to Esquipulas, explor...    Movie  \n",
            "2  A goofy copywriter unwittingly convinces the I...    Movie  \n",
            "3  Arranged to marry a rich man, young Ada is cru...    Movie  \n",
            "4  Lovable pug Chip starts kindergarten, makes ne...  TV Show  \n"
          ]
        }
      ],
      "source": [
        "import pandas as pd\n",
        "\n",
        "# Leer el archivo CSV\n",
        "df = pd.read_csv('sample_data/netflix_titles_nov_2019.csv')\n",
        "\n",
        "# Mostrar las primeras filas del DataFrame\n",
        "print(\"Primeras filas del DataFrame:\")\n",
        "print(df.head())\n"
      ]
    },
    {
      "cell_type": "code",
      "source": [
        "\n",
        "# Seleccionar la columna 'Edad'\n",
        "titulos = df['title']\n",
        "print(\"\\nColumna 'title':\")\n",
        "print(edad)\n"
      ],
      "metadata": {
        "id": "gTNoO2J0HL_J",
        "colab": {
          "base_uri": "https://localhost:8080/"
        },
        "outputId": "ce5efe46-a65b-4368-c471-34348fd20b70"
      },
      "execution_count": 9,
      "outputs": [
        {
          "output_type": "stream",
          "name": "stdout",
          "text": [
            "\n",
            "Columna 'title':\n",
            "0                                 Chocolate\n",
            "1       Guatemala: Heart of the Mayan World\n",
            "2                           The Zoya Factor\n",
            "3                                 Atlantics\n",
            "4                           Chip and Potato\n",
            "                       ...                 \n",
            "5832            Mad Ron's Prevues from Hell\n",
            "5833                               Splatter\n",
            "5834                Just Another Love Story\n",
            "5835                        Dinner for Five\n",
            "5836                   To and From New York\n",
            "Name: title, Length: 5837, dtype: object\n"
          ]
        }
      ]
    },
    {
      "cell_type": "code",
      "source": [
        "\n",
        "# Filtrar filas donde el tipo seae películo\n",
        "movies = df[df['type'] > \"Movie\"]\n",
        "print(\"\\nFilas donde hay películas:\")\n",
        "print(movies)\n",
        "\n"
      ],
      "metadata": {
        "colab": {
          "base_uri": "https://localhost:8080/"
        },
        "id": "_VJggQ4JIoig",
        "outputId": "9c3b9a70-e254-4ff9-995c-b71870cecd54"
      },
      "execution_count": 10,
      "outputs": [
        {
          "output_type": "stream",
          "name": "stdout",
          "text": [
            "\n",
            "Filas donde hay películas:\n",
            "       show_id                                        title     director  \\\n",
            "0     81193313                                    Chocolate          NaN   \n",
            "4     80213643                              Chip and Potato          NaN   \n",
            "8     70205672                             La Reina del Sur          NaN   \n",
            "11    81094391                         Sugar Rush Christmas          NaN   \n",
            "13    81152641                         The Charming Stepmom          NaN   \n",
            "...        ...                                          ...          ...   \n",
            "5811  70259177                                  Jack Taylor  Stuart Orme   \n",
            "5814  70258566          DreamWorks Spooky Stories: Volume 2          NaN   \n",
            "5815  70242630             DreamWorks Shrek's Swamp Stories          NaN   \n",
            "5816  70242629  DreamWorks How to Train Your Dragon Legends          NaN   \n",
            "5835  70157452                              Dinner for Five          NaN   \n",
            "\n",
            "                                                   cast  \\\n",
            "0     Ha Ji-won, Yoon Kye-sang, Jang Seung-jo, Kang ...   \n",
            "4     Abigail Oliver, Andrea Libman, Briana Buckmast...   \n",
            "8     Kate del Castillo, Cristina Urgel, Alberto Jim...   \n",
            "11          Hunter March, Candace Nelson, Adriano Zumbo   \n",
            "13    Shahkrit Yamnarm, View Wannarot Sontichai, Kri...   \n",
            "...                                                 ...   \n",
            "5811  Iain Glen, Killian Scott, Nora-Jane Noone, Tar...   \n",
            "5814  Seth Rogen, Kiefer Sutherland, Will Arnett, Hu...   \n",
            "5815  Mike Myers, Eddie Murphy, Cameron Diaz, Antoni...   \n",
            "5816  Jay Baruchel, Gerard Butler, Craig Ferguson, A...   \n",
            "5835                                                NaN   \n",
            "\n",
            "                                     country         date_added  release_year  \\\n",
            "0                                South Korea  November 30, 2019          2019   \n",
            "4                     Canada, United Kingdom                NaN          2019   \n",
            "8     United States, Spain, Colombia, Mexico                NaN          2019   \n",
            "11                             United States  November 29, 2019          2019   \n",
            "13                                       NaN  November 29, 2019          2019   \n",
            "...                                      ...                ...           ...   \n",
            "5811                  United States, Ireland     March 31, 2013          2016   \n",
            "5814                                     NaN   October 24, 2012          2011   \n",
            "5815                           United States    August 17, 2012          2008   \n",
            "5816                           United States      July 20, 2012          2011   \n",
            "5835                           United States   February 4, 2008          2007   \n",
            "\n",
            "     rating   duration                                          listed_in  \\\n",
            "0     TV-14   1 Season  International TV Shows, Korean TV Shows, Roman...   \n",
            "4      TV-Y  2 Seasons                                           Kids' TV   \n",
            "8     TV-14  2 Seasons  Crime TV Shows, International TV Shows, Spanis...   \n",
            "11    TV-PG   1 Season                                         Reality TV   \n",
            "13    TV-14   1 Season  International TV Shows, Romantic TV Shows, TV ...   \n",
            "...     ...        ...                                                ...   \n",
            "5811  TV-MA   1 Season  Crime TV Shows, International TV Shows, TV Dramas   \n",
            "5814  TV-PG   1 Season                              Kids' TV, TV Comedies   \n",
            "5815  TV-PG   1 Season       Kids' TV, TV Action & Adventure, TV Comedies   \n",
            "5816  TV-PG   1 Season  Kids' TV, TV Action & Adventure, TV Sci-Fi & F...   \n",
            "5835  TV-MA   1 Season                       Stand-Up Comedy & Talk Shows   \n",
            "\n",
            "                                            description     type  \n",
            "0     Brought together by meaningful meals in the pa...  TV Show  \n",
            "4     Lovable pug Chip starts kindergarten, makes ne...  TV Show  \n",
            "8     This compelling show tells the story of the le...  TV Show  \n",
            "11    It's everything you love about \"Sugar Rush\" – ...  TV Show  \n",
            "13    A quirky fashion student becomes the nanny of ...  TV Show  \n",
            "...                                                 ...      ...  \n",
            "5811  Ken Bruen's bestselling crime novels leap to l...  TV Show  \n",
            "5814  The Shrek characters parody the music video \"T...  TV Show  \n",
            "5815  Shrek celebrates Halloween, Puss in Boots is c...  TV Show  \n",
            "5816  In this set of shorts, Hiccup and the gang lea...  TV Show  \n",
            "5835  In each episode, four celebrities join host Jo...  TV Show  \n",
            "\n",
            "[1898 rows x 12 columns]\n"
          ]
        }
      ]
    },
    {
      "cell_type": "code",
      "source": [
        "# Agregar una nueva columna 'País'\n",
        "df['Año actual'] = 2024\n",
        "print(\"\\nDataFrame con la nueva columna 'País':\")\n",
        "print(df)\n",
        "\n"
      ],
      "metadata": {
        "colab": {
          "base_uri": "https://localhost:8080/"
        },
        "id": "ZZ-sIROHIv6X",
        "outputId": "908319e1-f32a-4b0d-bbe3-dcb2dbf2d521"
      },
      "execution_count": 11,
      "outputs": [
        {
          "output_type": "stream",
          "name": "stdout",
          "text": [
            "\n",
            "DataFrame con la nueva columna 'País':\n",
            "       show_id                                title  \\\n",
            "0     81193313                            Chocolate   \n",
            "1     81197050  Guatemala: Heart of the Mayan World   \n",
            "2     81213894                      The Zoya Factor   \n",
            "3     81082007                            Atlantics   \n",
            "4     80213643                      Chip and Potato   \n",
            "...        ...                                  ...   \n",
            "5832  70141644          Mad Ron's Prevues from Hell   \n",
            "5833  70127998                             Splatter   \n",
            "5834  70084180              Just Another Love Story   \n",
            "5835  70157452                      Dinner for Five   \n",
            "5836  70053412                 To and From New York   \n",
            "\n",
            "                        director  \\\n",
            "0                            NaN   \n",
            "1     Luis Ara, Ignacio Jaunsolo   \n",
            "2                Abhishek Sharma   \n",
            "3                      Mati Diop   \n",
            "4                            NaN   \n",
            "...                          ...   \n",
            "5832                  Jim Monaco   \n",
            "5833                   Joe Dante   \n",
            "5834                Ole Bornedal   \n",
            "5835                         NaN   \n",
            "5836        Sorin Dan Mihalcescu   \n",
            "\n",
            "                                                   cast  \\\n",
            "0     Ha Ji-won, Yoon Kye-sang, Jang Seung-jo, Kang ...   \n",
            "1                                     Christian Morales   \n",
            "2     Sonam Kapoor, Dulquer Salmaan, Sanjay Kapoor, ...   \n",
            "3     Mama Sane, Amadou Mbow, Ibrahima Traore, Nicol...   \n",
            "4     Abigail Oliver, Andrea Libman, Briana Buckmast...   \n",
            "...                                                 ...   \n",
            "5832  Nick Pawlow, Jordu Schell, Jay Kushwara, Micha...   \n",
            "5833  Corey Feldman, Tony Todd, Tara Leigh, Erin Way...   \n",
            "5834  Anders W. Berthelsen, Rebecka Hemse, Nikolaj L...   \n",
            "5835                                                NaN   \n",
            "5836  Barbara King, Shaana Diya, John Krisiukenas, Y...   \n",
            "\n",
            "                       country         date_added  release_year rating  \\\n",
            "0                  South Korea  November 30, 2019          2019  TV-14   \n",
            "1                          NaN  November 30, 2019          2019   TV-G   \n",
            "2                        India  November 30, 2019          2019  TV-14   \n",
            "3     France, Senegal, Belgium  November 29, 2019          2019  TV-14   \n",
            "4       Canada, United Kingdom                NaN          2019   TV-Y   \n",
            "...                        ...                ...           ...    ...   \n",
            "5832             United States   November 1, 2010          1987     NR   \n",
            "5833             United States  November 18, 2009          2009  TV-14   \n",
            "5834                   Denmark        May 5, 2009          2007     NR   \n",
            "5835             United States   February 4, 2008          2007  TV-MA   \n",
            "5836             United States    January 1, 2008          2006     NR   \n",
            "\n",
            "       duration                                          listed_in  \\\n",
            "0      1 Season  International TV Shows, Korean TV Shows, Roman...   \n",
            "1        67 min                Documentaries, International Movies   \n",
            "2       135 min             Comedies, Dramas, International Movies   \n",
            "3       106 min   Dramas, Independent Movies, International Movies   \n",
            "4     2 Seasons                                           Kids' TV   \n",
            "...         ...                                                ...   \n",
            "5832     84 min                         Cult Movies, Horror Movies   \n",
            "5833     29 min                                      Horror Movies   \n",
            "5834    104 min                       Dramas, International Movies   \n",
            "5835   1 Season                       Stand-Up Comedy & Talk Shows   \n",
            "5836     81 min              Dramas, Independent Movies, Thrillers   \n",
            "\n",
            "                                            description     type  Año actual  \n",
            "0     Brought together by meaningful meals in the pa...  TV Show        2024  \n",
            "1     From Sierra de las Minas to Esquipulas, explor...    Movie        2024  \n",
            "2     A goofy copywriter unwittingly convinces the I...    Movie        2024  \n",
            "3     Arranged to marry a rich man, young Ada is cru...    Movie        2024  \n",
            "4     Lovable pug Chip starts kindergarten, makes ne...  TV Show        2024  \n",
            "...                                                 ...      ...         ...  \n",
            "5832  This collection cherry-picks trailers, forgott...    Movie        2024  \n",
            "5833  After committing suicide, a washed-up rocker r...    Movie        2024  \n",
            "5834  When he causes a car accident that leaves a yo...    Movie        2024  \n",
            "5835  In each episode, four celebrities join host Jo...  TV Show        2024  \n",
            "5836  While covering a story in New York City, a Sea...    Movie        2024  \n",
            "\n",
            "[5837 rows x 13 columns]\n"
          ]
        }
      ]
    },
    {
      "cell_type": "code",
      "source": [
        "# Calcular la media de la columna 'Edad'\n",
        "media_anio = df['release_year'].mean()\n",
        "print(\"\\nMedia del año de lanzamiento:\")\n",
        "print(media_anio)\n",
        "\n"
      ],
      "metadata": {
        "colab": {
          "base_uri": "https://localhost:8080/"
        },
        "id": "5l_RmdTCJIA0",
        "outputId": "484f9b58-b430-44b6-a555-fe12d5957a0d"
      },
      "execution_count": 13,
      "outputs": [
        {
          "output_type": "stream",
          "name": "stdout",
          "text": [
            "\n",
            "Media del año de lanzamiento:\n",
            "2013.6885386328593\n"
          ]
        }
      ]
    },
    {
      "cell_type": "code",
      "source": [
        "# Guardar el DataFrame manipulado en un nuevo archivo CSV\n",
        "df.to_csv('datos_modificados.csv', index=False)\n",
        "print(\"\\nDatos guardados en 'datos_modificados.csv'\")"
      ],
      "metadata": {
        "colab": {
          "base_uri": "https://localhost:8080/"
        },
        "id": "TNAD-7SwJaMT",
        "outputId": "101b390c-8173-401f-d3fa-fed96013bcee"
      },
      "execution_count": 14,
      "outputs": [
        {
          "output_type": "stream",
          "name": "stdout",
          "text": [
            "\n",
            "Datos guardados en 'datos_modificados.csv'\n"
          ]
        }
      ]
    }
  ]
}